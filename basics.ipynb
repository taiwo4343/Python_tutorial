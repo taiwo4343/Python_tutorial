{
 "cells": [
  {
   "cell_type": "markdown",
   "id": "6955d5fc",
   "metadata": {},
   "source": [
    "## Lists"
   ]
  },
  {
   "cell_type": "code",
   "execution_count": 1,
   "id": "d9498e23",
   "metadata": {},
   "outputs": [
    {
     "name": "stdout",
     "output_type": "stream",
     "text": [
      "['to wong foo', [3, 5, 7]]\n"
     ]
    }
   ],
   "source": [
    "mylist = [] # This is an empty list. Lists are the most basic mutable type, and \n",
    "            #   are what you should use anytime you will need to add or remove things.\n",
    "            #   They can hold any combination of any type of object, including\n",
    "            #   other lists.\n",
    "mylist.append('to wong foo') # this appends a string\n",
    "mylist.append([3,5,7]) # this appends a list of numbers\n",
    "print(mylist)"
   ]
  },
  {
   "cell_type": "code",
   "execution_count": 2,
   "id": "f130fbff",
   "metadata": {},
   "outputs": [
    {
     "name": "stdout",
     "output_type": "stream",
     "text": [
      "['is a great movie', 'to wong foo', 0, 0, 0, 0, 0]\n"
     ]
    }
   ],
   "source": [
    "# Because lists are mutable, you can assign to them and there are methods which \n",
    "#   alter them in-place.\n",
    "mylist[1] = 'is a great movie'\n",
    "mylist.reverse()\n",
    "# Addition concatenates lists\n",
    "print(mylist+[0,0,0,0,0])"
   ]
  },
  {
   "cell_type": "markdown",
   "id": "08b5dc09",
   "metadata": {},
   "source": [
    "## Tuples"
   ]
  },
  {
   "cell_type": "code",
   "execution_count": 3,
   "id": "7b0a5392",
   "metadata": {},
   "outputs": [
    {
     "name": "stdout",
     "output_type": "stream",
     "text": [
      "(1, (2, 3), 'wow')\n",
      "o\n"
     ]
    }
   ],
   "source": [
    "mytup = (1,(2,3),'wow') # Tuples are immutable container types. They are just\n",
    "                        #   like lists, but they can't be changed once created.\n",
    "                        #   So: no appending or assignment!\n",
    "\n",
    "print(mytup)\n",
    "print(mytup[2][1])\n",
    "# These are useful if you want to be sure the contents don't change."
   ]
  },
  {
   "cell_type": "markdown",
   "id": "cccf613f",
   "metadata": {},
   "source": [
    "## Strings"
   ]
  },
  {
   "cell_type": "code",
   "execution_count": 4,
   "id": "a2da433a",
   "metadata": {},
   "outputs": [
    {
     "name": "stdout",
     "output_type": "stream",
     "text": [
      "Have some spam.\n"
     ]
    }
   ],
   "source": [
    "spam = 'Have some spam.' # This is a string. It's an immutable type.\n",
    "eggs = \"Have some eggs.\" # You can use double or single quotes for strings\n",
    "                         \n",
    "print(spam) # Prints the string to the terminal and starts a new line."
   ]
  },
  {
   "cell_type": "code",
   "execution_count": 5,
   "id": "17d7dc8d",
   "metadata": {},
   "outputs": [
    {
     "name": "stdout",
     "output_type": "stream",
     "text": [
      "Have Have some \n"
     ]
    }
   ],
   "source": [
    "# Remember that Python is base 0.\n",
    "# Like lists and tuples, strings are \"iterables\". You can index into them.\n",
    "# All intervals in Python include the left endpoint and exclude the right one.\n",
    "# Also: addition concatenates strings\n",
    "print(spam[0:5] + spam[:10])"
   ]
  },
  {
   "cell_type": "code",
   "execution_count": 6,
   "id": "841d4e0b",
   "metadata": {},
   "outputs": [
    {
     "name": "stdout",
     "output_type": "stream",
     "text": [
      "aesm \n",
      ".sgge emos evaH\n"
     ]
    }
   ],
   "source": [
    "# You can use indexing to go through iterables in different ways\n",
    "print(eggs[1:10:2])\n",
    "print(eggs[::-1])"
   ]
  },
  {
   "cell_type": "code",
   "execution_count": 7,
   "id": "3fdce27c",
   "metadata": {},
   "outputs": [
    {
     "name": "stdout",
     "output_type": "stream",
     "text": [
      "The pirate says 7, win!!!\n"
     ]
    }
   ],
   "source": [
    "# You can use the format property of a string to replace {} with text, etc.\n",
    "pirate_call = 'The pirate says {}, {}!!!'.format(2+5,'win')\n",
    "print(pirate_call)"
   ]
  },
  {
   "cell_type": "markdown",
   "id": "745ae98f",
   "metadata": {},
   "source": [
    "## Dictionaries"
   ]
  },
  {
   "cell_type": "code",
   "execution_count": 8,
   "id": "94001215",
   "metadata": {},
   "outputs": [
    {
     "name": "stdout",
     "output_type": "stream",
     "text": [
      "{'color': 'blue', 'number': 3}\n",
      "blue\n"
     ]
    }
   ],
   "source": [
    "mydict = {} # This is an empty dict. It's mutable.\n",
    "            #   Dicts are made up of key-value pairs. Keys can be any immutable,\n",
    "            #   and they point to a value which can be any object.\n",
    "            #   While they are iterable (you can iterate through them using \n",
    "            #   techniques TBD later), they are NOT ordered in any way.\n",
    "mydict['color'] = 'blue' # color points to 'blue'\n",
    "mydict['number'] = 3 # 'number' points to 3\n",
    "print(mydict)\n",
    "print(mydict['color'])"
   ]
  },
  {
   "cell_type": "markdown",
   "id": "d0b239c1",
   "metadata": {},
   "source": [
    "## Numpy Arrays"
   ]
  },
  {
   "cell_type": "code",
   "execution_count": 9,
   "id": "8cab97c2",
   "metadata": {},
   "outputs": [
    {
     "name": "stdout",
     "output_type": "stream",
     "text": [
      "A = \n",
      "[[1 2 3]\n",
      " [4 5 6]\n",
      " [7 8 9]]\n",
      "The shape of A is 3 by 3.\n",
      "B = \n",
      "[[0.44157801 0.44221017 0.46174881]\n",
      " [0.87936334 0.30425937 0.49106676]\n",
      " [0.56625932 0.14225039 0.09754377]]\n",
      "Element-wise multiplication:\n",
      "[[0.44157801 0.88442034 1.38524642]\n",
      " [3.51745336 1.52129684 2.94640056]\n",
      " [3.96381525 1.13800314 0.87789392]]\n",
      "Matrix multiplicaton:\n",
      "[[ 3.89908266  1.47748009  1.73651363]\n",
      " [ 9.56068468  4.14363988  4.88759163]\n",
      " [15.2222867   6.80979968  8.03866963]]\n",
      "Lucky number 7!\n"
     ]
    }
   ],
   "source": [
    "import numpy as np\n",
    "# (Nearly) everything in NumPy uses the array datatype.\n",
    "# It is mutable, but has a fixed shape and should only contain a single datatype\n",
    "#   (usually numbers, and most usually floating point numbers)\n",
    "# You can create an array out of a list, or a list of lists.\n",
    "A = np.array([[1,2,3],[4,5,6],[7,8,9]]) # 3x3 array of integers\n",
    "print('A = ')\n",
    "print(A)\n",
    "x,y = A.shape\n",
    "print('The shape of A is {} by {}.'.format(x,y))\n",
    "B = np.random.rand(3,3) # 3x3 array of floating point numbers between 0 and 1\n",
    "print('B = ')\n",
    "print(B)\n",
    "# All operations are elementwise...\n",
    "print('Element-wise multiplication:')\n",
    "print(A*B)\n",
    "# In Python 3.5+, we also have @ which is matrix multiplication\n",
    "print('Matrix multiplicaton:')\n",
    "print(A@B)\n",
    "# Tons of other routines can be found in the numpy library\n",
    "# You can get a particular element from a multidimensional array like this:\n",
    "print('Lucky number {}!'.format(A[2,0])) # row 2, column 0\n",
    "# Slices (with :) work too, and there are lots of other fancy tricks!"
   ]
  },
  {
   "cell_type": "code",
   "execution_count": null,
   "id": "b3dba06e",
   "metadata": {},
   "outputs": [],
   "source": []
  }
 ],
 "metadata": {
  "kernelspec": {
   "display_name": "Python 3 (ipykernel)",
   "language": "python",
   "name": "python3"
  },
  "language_info": {
   "codemirror_mode": {
    "name": "ipython",
    "version": 3
   },
   "file_extension": ".py",
   "mimetype": "text/x-python",
   "name": "python",
   "nbconvert_exporter": "python",
   "pygments_lexer": "ipython3",
   "version": "3.11.5"
  }
 },
 "nbformat": 4,
 "nbformat_minor": 5
}
